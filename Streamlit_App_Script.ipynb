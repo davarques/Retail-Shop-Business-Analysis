{
  "cells": [
    {
      "cell_type": "markdown",
      "metadata": {
        "id": "mwaY-FEtAd41"
      },
      "source": [
        "# Libraries"
      ]
    },
    {
      "cell_type": "code",
      "execution_count": null,
      "metadata": {
        "id": "1J0mXK3SwjnU"
      },
      "outputs": [],
      "source": [
        "# 📚 Basic Libraries\n",
        "import pandas as pd\n",
        "import numpy as np\n",
        "import warnings\n",
        "import os\n",
        "import plotly.express as px\n",
        "import zipfile\n",
        "from google.colab import files\n",
        "\n",
        "# 📊 Visualizations\n",
        "import matplotlib.pyplot as plt\n",
        "import matplotlib.cm as cm\n",
        "import seaborn as sns\n",
        "\n",
        "# ⚙️ Settings\n",
        "pd.set_option('display.max_columns', None) # display all columns\n",
        "warnings.filterwarnings('ignore') # ignore warnings"
      ]
    },
    {
      "cell_type": "markdown",
      "metadata": {
        "id": "20YLPeYmA-xe"
      },
      "source": [
        "# 01 | About Dataset"
      ]
    },
    {
      "cell_type": "markdown",
      "metadata": {
        "id": "95tgQNuBBS1Q"
      },
      "source": [
        "[Kaggle link](https://www.kaggle.com/datasets/sadiqshah/bike-sales-in-europe/data)  \n",
        "\n",
        "**Columns:**\n",
        "- `Date`: The date of the sale.\n",
        "- `Day`: The day of the month when the sale occurred.\n",
        "- `Month`: The month when the sale occurred.\n",
        "- `Year`: The year when the sale occurred.\n",
        "- `Customer_Age`: Age of the customer.\n",
        "- `Age_Group`: Age group classification of the customer.\n",
        "- `Customer_Gender`: Gender of the customer.\n",
        "- `Country`: Country where the sale took place.\n",
        "- `State`: State where the sale took place.\n",
        "- `Product_Category`: Category of the product sold.\n",
        "- `Sub_Category`: Sub-category of the product sold.\n",
        "- `Product`: Specific product sold.\n",
        "- `Order_Quantity`: Number of units ordered.\n",
        "- `Unit_Cost`: Cost per unit of the product.\n",
        "- `Unit_Price`: Selling price per unit of the product.\n",
        "- `Profit`: Profit from the sale.\n",
        "- `Cost`: Total cost of the sale.\n",
        "- `Revenue`: Total revenue from the sale.\n",
        "\n",
        "**Problem Statement**\n",
        "\n",
        "**Business Analyst Case:** A bike shop has been gathering data from 2011-2016 and now wants to gain insights and understand historical performance to improve the business. The objective is to use this data to predict future demand and profits, which are key for making informed business decisions.\n"
      ]
    },
    {
      "cell_type": "markdown",
      "metadata": {
        "id": "YnXxVp9jFXNL"
      },
      "source": [
        "# Extract Data"
      ]
    },
    {
      "cell_type": "code",
      "execution_count": null,
      "metadata": {
        "colab": {
          "base_uri": "https://localhost:8080/"
        },
        "id": "hz-0jjyL45Yo",
        "outputId": "0202da70-a0a0-4dfa-9166-ac27df616d80"
      },
      "outputs": [
        {
          "output_type": "execute_result",
          "data": {
            "text/plain": [
              "['.config',\n",
              " 'road_bikes.csv',\n",
              " '2016_cleaned_data.csv',\n",
              " 'mountain_bikes.csv',\n",
              " 'touring_bikes.csv',\n",
              " 'sample_data']"
            ]
          },
          "metadata": {},
          "execution_count": 2
        }
      ],
      "source": [
        "os.listdir()"
      ]
    },
    {
      "cell_type": "code",
      "execution_count": null,
      "metadata": {
        "id": "Xt7qj34jFZ_z"
      },
      "outputs": [],
      "source": [
        "df_2016 = pd.read_csv('2016_cleaned_data.csv')  # 2016 all data\n",
        "road_bikes_df = pd.read_csv('road_bikes.csv')\n",
        "mountain_bikes_df = pd.read_csv('mountain_bikes.csv')\n",
        "touring_bikes_df = pd.read_csv('touring_bikes.csv')"
      ]
    },
    {
      "cell_type": "markdown",
      "metadata": {
        "id": "JuuBC-hGxv_q"
      },
      "source": [
        "# 04 | Streamlit App"
      ]
    },
    {
      "cell_type": "code",
      "execution_count": null,
      "metadata": {
        "id": "OUoSd5jA3T20",
        "colab": {
          "base_uri": "https://localhost:8080/"
        },
        "outputId": "a5487b36-cd7c-46d8-8471-fb261b4a2981"
      },
      "outputs": [
        {
          "output_type": "stream",
          "name": "stdout",
          "text": [
            "\u001b[?25l   \u001b[90m━━━━━━━━━━━━━━━━━━━━━━━━━━━━━━━━━━━━━━━━\u001b[0m \u001b[32m0.0/8.7 MB\u001b[0m \u001b[31m?\u001b[0m eta \u001b[36m-:--:--\u001b[0m\r\u001b[2K   \u001b[91m━━━━━━━\u001b[0m\u001b[91m╸\u001b[0m\u001b[90m━━━━━━━━━━━━━━━━━━━━━━━━━━━━━━━━\u001b[0m \u001b[32m1.7/8.7 MB\u001b[0m \u001b[31m48.1 MB/s\u001b[0m eta \u001b[36m0:00:01\u001b[0m\r\u001b[2K   \u001b[91m━━━━━━━━━━━━━━━━━━\u001b[0m\u001b[90m╺\u001b[0m\u001b[90m━━━━━━━━━━━━━━━━━━━━━\u001b[0m \u001b[32m3.9/8.7 MB\u001b[0m \u001b[31m55.5 MB/s\u001b[0m eta \u001b[36m0:00:01\u001b[0m\r\u001b[2K   \u001b[91m━━━━━━━━━━━━━━━━━━━━━━━━━━━━━━\u001b[0m\u001b[91m╸\u001b[0m\u001b[90m━━━━━━━━━\u001b[0m \u001b[32m6.6/8.7 MB\u001b[0m \u001b[31m56.6 MB/s\u001b[0m eta \u001b[36m0:00:01\u001b[0m\r\u001b[2K   \u001b[91m━━━━━━━━━━━━━━━━━━━━━━━━━━━━━━━━━━━━━━━\u001b[0m\u001b[91m╸\u001b[0m \u001b[32m8.6/8.7 MB\u001b[0m \u001b[31m61.3 MB/s\u001b[0m eta \u001b[36m0:00:01\u001b[0m\r\u001b[2K   \u001b[91m━━━━━━━━━━━━━━━━━━━━━━━━━━━━━━━━━━━━━━━\u001b[0m\u001b[91m╸\u001b[0m \u001b[32m8.6/8.7 MB\u001b[0m \u001b[31m61.3 MB/s\u001b[0m eta \u001b[36m0:00:01\u001b[0m\r\u001b[2K   \u001b[90m━━━━━━━━━━━━━━━━━━━━━━━━━━━━━━━━━━━━━━━━\u001b[0m \u001b[32m8.7/8.7 MB\u001b[0m \u001b[31m41.5 MB/s\u001b[0m eta \u001b[36m0:00:00\u001b[0m\n",
            "\u001b[2K   \u001b[90m━━━━━━━━━━━━━━━━━━━━━━━━━━━━━━━━━━━━━━━━\u001b[0m \u001b[32m207.3/207.3 kB\u001b[0m \u001b[31m10.3 MB/s\u001b[0m eta \u001b[36m0:00:00\u001b[0m\n",
            "\u001b[2K   \u001b[90m━━━━━━━━━━━━━━━━━━━━━━━━━━━━━━━━━━━━━━━━\u001b[0m \u001b[32m6.9/6.9 MB\u001b[0m \u001b[31m39.2 MB/s\u001b[0m eta \u001b[36m0:00:00\u001b[0m\n",
            "\u001b[2K   \u001b[90m━━━━━━━━━━━━━━━━━━━━━━━━━━━━━━━━━━━━━━━━\u001b[0m \u001b[32m82.9/82.9 kB\u001b[0m \u001b[31m4.7 MB/s\u001b[0m eta \u001b[36m0:00:00\u001b[0m\n",
            "\u001b[2K   \u001b[90m━━━━━━━━━━━━━━━━━━━━━━━━━━━━━━━━━━━━━━━━\u001b[0m \u001b[32m62.7/62.7 kB\u001b[0m \u001b[31m3.3 MB/s\u001b[0m eta \u001b[36m0:00:00\u001b[0m\n",
            "\u001b[?25h"
          ]
        }
      ],
      "source": [
        "! pip install streamlit -q"
      ]
    },
    {
      "cell_type": "code",
      "execution_count": null,
      "metadata": {
        "colab": {
          "base_uri": "https://localhost:8080/"
        },
        "id": "0mqutQRCI3fj",
        "outputId": "35420374-2ba6-46bc-87ba-af2dd21bf3a0"
      },
      "outputs": [
        {
          "output_type": "stream",
          "name": "stdout",
          "text": [
            "Writing app.py\n"
          ]
        }
      ],
      "source": [
        "# Write Streamlit App:\n",
        "%%writefile app.py\n",
        "import streamlit as st\n",
        "import pandas as pd\n",
        "\n",
        "# Load the DataFrames:\n",
        "df_2016 = pd.read_csv('2016_cleaned_data.csv') # 2016 all data\n",
        "road_bikes_df = pd.read_csv('road_bikes.csv')\n",
        "mountain_bikes_df = pd.read_csv('mountain_bikes.csv')\n",
        "touring_bikes_df = pd.read_csv('touring_bikes.csv')\n",
        "\n",
        "# App title and logo:\n",
        "st.title('Bike Shop App')\n",
        "st.image(\"https://www.shutterstock.com/image-vector/bike-icon-vector-logo-template-600nw-1388480312.jpg\", width=350)\n",
        "\n",
        "# App tabs:\n",
        "tabs = st.tabs([\"Product Price Catalog\", \"Bike Budget Planner\"])\n",
        "\n",
        "# First App tab [Product Price Catalog]:\n",
        "with tabs[0]:\n",
        "    st.header('Product Price Catalog')\n",
        "    st.write(\"Select a product and consult product's manufacturing cost and final price:\")\n",
        "\n",
        "    # Create Select Boxes:\n",
        "\n",
        "    # 1) Product category\n",
        "    product_category = st.selectbox('Select Product Category:', df_2016['product_category'].unique())\n",
        "\n",
        "    # Filter dataframe based on selected category:\n",
        "    filtered_product_df = df_2016[df_2016['product_category'] == product_category]\n",
        "\n",
        "    # 2) Sub Category\n",
        "    sub_category = st.selectbox('Select Product Sub-Category:', filtered_product_df.sub_category.unique())\n",
        "\n",
        "    # Filter again dataframe based on selected sub_category:\n",
        "    filtered_sub_category_df = filtered_product_df[filtered_product_df['sub_category'] == sub_category]\n",
        "\n",
        "    # 3) Product list:\n",
        "    product = st.selectbox('Select Product:', filtered_sub_category_df['product'].unique())\n",
        "\n",
        "    # Function to get unit cost and price\n",
        "    def product_unit_cost_price(df, product):\n",
        "        \"\"\"Pulls unit cost and price of a given product\"\"\"\n",
        "        filtered_df = df[df['product'] == product]\n",
        "        if not filtered_df.empty:\n",
        "            unit_cost = filtered_df['unit_cost'].unique()[0]\n",
        "            unit_price = filtered_df['unit_price'].unique()[0]\n",
        "            return unit_cost, unit_price\n",
        "        else:\n",
        "            return None, None\n",
        "\n",
        "    # Call the function with the selected product\n",
        "    unit_cost, unit_price = product_unit_cost_price(filtered_sub_category_df, product)\n",
        "\n",
        "    # Display the result in the Streamlit app\n",
        "    if unit_cost is not None and unit_price is not None:\n",
        "        # Calculate the profit margin based on selling price\n",
        "        profit_margin = ((unit_price - unit_cost) / unit_price) * 100\n",
        "\n",
        "        st.write('Results of the selected product:')\n",
        "        st.write(f\"Unit Cost: {unit_cost:.2f}€\")\n",
        "        st.write(f\"Unit Price: {unit_price:.2f}€\")\n",
        "        st.write(f\"Profit Margin: {profit_margin:.2f}%\")\n",
        "        st.write(f'--------------------------------')\n",
        "    else:\n",
        "        st.write(\"No matching product found, review the product name\")\n",
        "\n",
        "# -------------------------------------- #\n",
        "\n",
        "# Second App tab [Bike Budget Planner]:\n",
        "with tabs[1]:\n",
        "    st.header('Bike Budget Planner')\n",
        "    st.write(\"Select a bike category, choose a budget range, and consult potential products:\")\n",
        "\n",
        "    # 1) Bike Category Selector:\n",
        "    category = st.selectbox('Select Product Category:', ['Road Bike', 'Mountain Bike', 'Touring Bike'])\n",
        "\n",
        "    # 2) Double-Ended Budget Slider:\n",
        "    budget_range = st.slider('Select Budget Range:', min_value=500, max_value=5000, value=(1000, 3000), step=100)\n",
        "\n",
        "    # 3) Determine DataFrame based on the selected category:\n",
        "    if category == 'Road Bike':\n",
        "        df = road_bikes_df\n",
        "    elif category == 'Mountain Bike':\n",
        "        df = mountain_bikes_df\n",
        "    elif category == 'Touring Bike':\n",
        "        df = touring_bikes_df\n",
        "\n",
        "    # Ensure that the DataFrame is loaded and contains the expected columns:\n",
        "    if 'unit_price' in df.columns and 'product' in df.columns:\n",
        "        # Debugging output:\n",
        "        st.write(f\"Selected category: {category}\")\n",
        "        st.write(f\"Selected budget range: {budget_range[0]}€ - {budget_range[1]}€\")\n",
        "        st.write(f\"DataFrame shape: {df.shape}\")\n",
        "        st.write(f\"Unit price range: {df['unit_price'].min()}€ - {df['unit_price'].max()}€\")\n",
        "\n",
        "        # 4) Filter DataFrame based on budget range:\n",
        "        filtered_budget_df = df[(df['unit_price'] >= budget_range[0]) & (df['unit_price'] <= budget_range[1])]\n",
        "\n",
        "        # Display results:\n",
        "        if not filtered_budget_df.empty:\n",
        "            st.write(f\"Products within your budget range of {budget_range[0]}€ to {budget_range[1]}€:\")\n",
        "            st.write(filtered_budget_df[['product', 'unit_cost', 'unit_price', 'profit_margin']])\n",
        "        else:\n",
        "            st.write(\"No products found within the selected budget range.\")\n",
        "    else:\n",
        "        st.write(\"The selected category does not have the expected data.\")"
      ]
    },
    {
      "cell_type": "code",
      "execution_count": null,
      "metadata": {
        "colab": {
          "base_uri": "https://localhost:8080/"
        },
        "id": "E0xJ9v3f4IDs",
        "outputId": "de5e073e-b737-4b72-baf7-63a903e3aeed"
      },
      "outputs": [
        {
          "output_type": "stream",
          "name": "stdout",
          "text": [
            "\n",
            "Collecting usage statistics. To deactivate, set browser.gatherUsageStats to false.\n",
            "\u001b[0m\n",
            "\u001b[0m\n",
            "\u001b[34m\u001b[1m  You can now view your Streamlit app in your browser.\u001b[0m\n",
            "\u001b[0m\n",
            "\u001b[34m  Local URL: \u001b[0m\u001b[1mhttp://localhost:8501\u001b[0m\n",
            "\u001b[34m  Network URL: \u001b[0m\u001b[1mhttp://172.28.0.12:8501\u001b[0m\n",
            "\u001b[34m  External URL: \u001b[0m\u001b[1mhttp://35.221.37.42:8501\u001b[0m\n",
            "\u001b[0m\n",
            "\u001b[1G\u001b[0JNeed to install the following packages:\n",
            "  localtunnel@2.0.2\n",
            "Ok to proceed? (y) \u001b[20Gy\n",
            "\u001b[K\u001b[?25hyour url is: https://flat-birds-accept.loca.lt\n",
            "\u001b[34m  Stopping...\u001b[0m\n",
            "^C\n"
          ]
        }
      ],
      "source": [
        "# Run the Streamlit App:\n",
        "!streamlit run app.py & npx localtunnel --port 8501"
      ]
    }
  ],
  "metadata": {
    "colab": {
      "provenance": []
    },
    "kernelspec": {
      "display_name": "Python 3",
      "name": "python3"
    },
    "language_info": {
      "name": "python"
    }
  },
  "nbformat": 4,
  "nbformat_minor": 0
}